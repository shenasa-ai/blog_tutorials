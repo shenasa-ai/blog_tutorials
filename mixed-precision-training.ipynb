{
 "cells": [
  {
   "cell_type": "markdown",
   "metadata": {},
   "source": [
    "# Mixed Precision Training (PyTorch, TF2.X)\n",
    "- train faster and bigger\n",
    "- author: Sajjad Ayoubi"
   ]
  },
  {
   "cell_type": "markdown",
   "metadata": {
    "id": "OGChDFcoDvKV"
   },
   "source": [
    "Most deep learning frameworks, including **PyTorch** & **Tensorflow**, train with 32-bit floating point (FP32) arithmetic by default. However this is not essential to achieve full accuracy for many deep learning models. NVIDIA researchers developed a methodology for mixed-precision training, which combined single-precision (FP32) with half-precision (e.g. FP16) format when training a network, and achieved the same accuracy as FP32 training using the same hyperparameters, with additional performance benefits on NVIDIA GPUs:\r\n",
    "\r\n",
    "- Shorter training time;\r\n",
    "- Lower memory requirements, enabling larger batch sizes, larger models, or larger inputs."
   ]
  },
  {
   "cell_type": "markdown",
   "metadata": {
    "id": "z13hS60rcQLq"
   },
   "source": [
    "## How Mixed Precision works\n",
    "\n",
    "\n",
    "![](https://uupload.ir/files/jpnd_fp16.png)\n",
    "> the original image is from NVIDIA Developer [video](https://youtu.be/i1fIBtdhjIg)\n"
   ]
  },
  {
   "cell_type": "markdown",
   "metadata": {
    "id": "dpSbxQRPzOKm"
   },
   "source": [
    "Among NVIDIA GPUs, those with compute capability 7.0 or higher will see the greatest performance benefit from mixed precision because they have special hardware units, called Tensor Cores, to accelerate float16 matrix multiplications and convolutions. Older GPUs offer no math performance benefit for using mixed precision, however memory and bandwidth savings can enable some speedups. You can look up the compute capability for your GPU at NVIDIA's CUDA GPU web page. Examples of GPUs that will benefit most from mixed precision include RTX GPUs, the V100, and the A100."
   ]
  },
  {
   "cell_type": "markdown",
   "metadata": {
    "id": "v2LkG_psyXvp"
   },
   "source": [
    "- For many real-world models, mixed precision also allows you to double the batch size without running out of memory, as float16 tensors take half the memory\n",
    "- Note: If running this guide in Google Colab, the GPU runtime typically has a P100 connected. The P100 has compute capability 6.0 and is not expected to show a significant speedup."
   ]
  },
  {
   "cell_type": "markdown",
   "metadata": {
    "id": "i_bH7yCPQyPD"
   },
   "source": [
    "### Performance Benchmarks \r\n",
    "- FP16 on NVIDIA V100 vs. FP32 on V100\r\n",
    "\r\n",
    "AMP with FP16 is the most performant option for DL training on the V100. In Table 1, we can observe that for various models, AMP on V100 provides a speedup of 1.5x to 5.5x over FP32 on V100 while converging to the same final accuracy.\r\n",
    "\r\n",
    "\r\n",
    "<br>![](https://pytorch.org/assets/images/nvidiafp32onv100.jpg)\r\n",
    "\r\n",
    "> Figure 2. Performance of mixed precision training on NVIDIA 8xV100 vs. FP32 training on 8xV100 GPU. Bars represent the speedup factor of V100 AMP over V100 FP32. The higher the better."
   ]
  },
  {
   "cell_type": "markdown",
   "metadata": {
    "id": "p3cngoxEGPrA"
   },
   "source": [
    "### Gradient Scaling\r\n",
    "If the forward pass for a particular op has float16 inputs, the backward pass for that op will produce float16 gradients. Gradient values with small magnitudes may not be representable in float16. These values will flush to zero (“underflow”), so the update for the corresponding parameters will be lost.\r\n",
    "\r\n",
    "To prevent underflow, “gradient scaling” multiplies the network’s loss(es) by a scale factor and invokes a backward pass on the scaled loss(es). Gradients flowing backward through the network are then scaled by the same factor. In other words, gradient values have a larger magnitude, so they don’t flush to zero.\r\n",
    "\r\n",
    "Each parameter’s gradient should be unscaled before the optimizer updates the parameters, so the scale factor does not interfere with the learning rate.\r\n",
    "\r\n",
    "- we have tow steps\r\n",
    "  - multiply the loss by some large number\r\n",
    "  - after computing grads, we rescale the gradients with divide by that number to bring them back to their correct values\r\n",
    "\r\n",
    "- we can do it with something like this: (it's pseudocode)\r\n",
    "```python\r\n",
    "loss = model(inputs)\r\n",
    "# We assume `grads` are float32. We do not want to divide float16 gradients\r\n",
    "grads = compute_gradient(loss*512, model.weights)\r\n",
    "grads /= 512\r\n",
    "# then update the weights\r\n",
    "```\r\n",
    "\r\n",
    "Choosing a loss scale can be tricky. If the loss scale is too low, gradients may still underflow to zero. If too high, the opposite the problem occurs: the gradients may overflow to infinity.\r\n",
    "\r\n",
    "- **don't worry about it** frameworks as PyTorch and TF set it dynamically for you"
   ]
  },
  {
   "cell_type": "markdown",
   "metadata": {
    "id": "j2t6ekSizPtX"
   },
   "source": [
    "## PyTorch"
   ]
  },
  {
   "cell_type": "markdown",
   "metadata": {
    "id": "fdj2_M5jEitk"
   },
   "source": [
    "For the PyTorch 1.6 release, developers at NVIDIA and Facebook moved mixed precision functionality into PyTorch core as the AMP package, `torch.cuda.amp`\r\n",
    "  - amp stands for auto mixed-precision"
   ]
  },
  {
   "cell_type": "code",
   "execution_count": null,
   "metadata": {
    "id": "P-9oSkvY-n-0"
   },
   "outputs": [],
   "source": [
    "import torch\r\n",
    "import torch.nn as nn\r\n",
    "import torch.optim as optim\r\n",
    "from torchvision import datasets, transforms\r\n",
    "from torchvision.models import mobilenet_v2"
   ]
  },
  {
   "cell_type": "code",
   "execution_count": null,
   "metadata": {
    "colab": {
     "base_uri": "https://localhost:8080/"
    },
    "id": "zT31TJFc_ONN",
    "outputId": "cbf9601e-fa12-4203-aa21-e92dbe42cd77"
   },
   "outputs": [
    {
     "name": "stdout",
     "output_type": "stream",
     "text": [
      "Files already downloaded and verified\n"
     ]
    }
   ],
   "source": [
    "transform = transforms.Compose([transforms.ToTensor(), transforms.Normalize((0), (255))])\r\n",
    "train_ds = datasets.CIFAR10('./', download=True, transform=transform)\r\n",
    "train_dl = torch.utils.data.DataLoader(train_ds, batch_size=128, shuffle=True, num_workers=4)"
   ]
  },
  {
   "cell_type": "code",
   "execution_count": null,
   "metadata": {
    "id": "HDPV4LbRJYt2"
   },
   "outputs": [],
   "source": [
    "# for mixed precision training \r\n",
    "from torch.cuda.amp import GradScaler # for gradient and loss sclaing\r\n",
    "from torch.cuda.amp import autocast # Casts operations in float16 & 32 automatically "
   ]
  },
  {
   "cell_type": "markdown",
   "metadata": {
    "id": "TIcPQRYdJ8Np"
   },
   "source": [
    "- define a new model"
   ]
  },
  {
   "cell_type": "code",
   "execution_count": null,
   "metadata": {
    "id": "NtwgIHbVQqmA"
   },
   "outputs": [],
   "source": [
    "device = 'cuda'\r\n",
    "model = mobilenet_v2()\r\n",
    "model.classifier = nn.Linear(1280, 10)\r\n",
    "model.to(device)\r\n",
    "# create optimizer and loss\r\n",
    "optimizer = optim.Adam(model.parameters(), lr=0.005)    \r\n",
    "loss_fn = nn.CrossEntropyLoss().to(device)"
   ]
  },
  {
   "cell_type": "markdown",
   "metadata": {
    "id": "1VgxzJdvE94k"
   },
   "source": [
    "Training\r\n",
    "  - `autocast()` has no effect outside regions where it’s enabled"
   ]
  },
  {
   "cell_type": "code",
   "execution_count": null,
   "metadata": {
    "colab": {
     "base_uri": "https://localhost:8080/"
    },
    "id": "xn3KIrlZKrjd",
    "outputId": "e9c0ea2b-e446-4799-b039-1f0a5ff842a0"
   },
   "outputs": [
    {
     "name": "stdout",
     "output_type": "stream",
     "text": [
      "[1,  391] loss: 2.4166\n",
      "[101,  391] loss: 2.1503\n",
      "[201,  391] loss: 1.9664\n",
      "[301,  391] loss: 1.8769\n"
     ]
    }
   ],
   "source": [
    "fp16 = True\r\n",
    "# defince scaler for loss and grad scaling\r\n",
    "# Creates once at the beginning of training\r\n",
    "scaler = GradScaler(enabled=fp16)\r\n",
    "\r\n",
    "loss_avg = 0.0\r\n",
    "for i, (inputs, labels) in enumerate(train_dl): \r\n",
    "    optimizer.zero_grad()\r\n",
    "    # Casts operations to mixed precision\r\n",
    "    with autocast(enabled=fp16):\r\n",
    "        outputs = model(inputs.to(device))\r\n",
    "        loss = loss_fn(outputs, labels.to(device))\r\n",
    "        loss_avg = (loss_avg * i + loss) / (i+1)\r\n",
    "    # Scales the loss, and calls backward()\r\n",
    "    # to create scaled gradients\r\n",
    "    scaler.scale(loss).backward()\r\n",
    "    # Unscales gradients and calls\r\n",
    "    # or skips optimizer.step()\r\n",
    "    scaler.step(optimizer)\r\n",
    "    scaler.update()\r\n",
    "\r\n",
    "    # simple logging\r\n",
    "    if i%100==0:   \r\n",
    "        print('[%d, %4d] loss: %.4f' %(i+1, len(train_dl), loss_avg))"
   ]
  },
  {
   "cell_type": "markdown",
   "metadata": {
    "id": "shAMffkCMbKn"
   },
   "source": [
    "- all together"
   ]
  },
  {
   "cell_type": "code",
   "execution_count": null,
   "metadata": {
    "id": "7xsc2kH-NVKc"
   },
   "outputs": [],
   "source": [
    "def train(fp16=True, device='cuda'):\r\n",
    "    scaler = GradScaler(enabled=fp16)\r\n",
    "\r\n",
    "    loss_avg = 0.0\r\n",
    "    for i, (inputs, labels) in enumerate(train_dl             optimizer.zero_grad() # set_to_none=True here can modestly improve perform              # Casts operations to mixed prec        \n",
    "      with autocast(enabled=                    outputs = model(inputs.to(d                     loss = loss_fn(outputs, labels.to(                      loss_avg = (loss_avg * i + loss.item()        1)\r\n",
    "\r\n",
    "      # Scales the loss, and calls        ard()\r\n",
    "      # to create scal        dients\r\n",
    "      scaler.scale(los        kward()\r\n",
    "      # you can use grad        as usual\r\n",
    "      torch.nn.utils.clip_grad_norm_(model.parameters(),         rm='inf')\r\n",
    "      # Unscales gra         and calls\r\n",
    "      # or skips        izer.step()\r\n",
    "      scal        p(optimizer)\r\n",
    "             r.update()  \r\n",
    "\r\n",
    "            %100==0:   \r\n",
    "          print('[%d, %4d] loss: %.4f' %(i, len(train_dl), loss_avg))"
   ]
  },
  {
   "cell_type": "code",
   "execution_count": null,
   "metadata": {
    "colab": {
     "base_uri": "https://localhost:8080/"
    },
    "id": "SvRib3nAQTHo",
    "outputId": "932aa246-3f77-434e-f3ed-03bfeb35087e"
   },
   "outputs": [
    {
     "name": "stdout",
     "output_type": "stream",
     "text": [
      "[0,  391] loss: 1.4084\n",
      "[100,  391] loss: 1.4822\n",
      "[200,  391] loss: 1.4601\n",
      "[300,  391] loss: 1.4331\n"
     ]
    }
   ],
   "source": [
    "train(fp16=True)"
   ]
  },
  {
   "cell_type": "code",
   "execution_count": null,
   "metadata": {
    "colab": {
     "base_uri": "https://localhost:8080/"
    },
    "id": "tv8c3KbCQZ-N",
    "outputId": "94a9d908-8ec8-4f19-8534-ab28440776d9"
   },
   "outputs": [
    {
     "name": "stdout",
     "output_type": "stream",
     "text": [
      "[0,  391] loss: 1.2830\n",
      "[100,  391] loss: 1.2331\n",
      "[200,  391] loss: 1.2164\n",
      "[300,  391] loss: 1.2011\n"
     ]
    }
   ],
   "source": [
    "train(fp16=False)"
   ]
  },
  {
   "cell_type": "markdown",
   "metadata": {
    "id": "Mu2SlAi9NzS1"
   },
   "source": [
    "Saving/Resuming\r\n",
    "  - To save/resume Amp-enabled runs with bitwise accuracy, use scaler.state_dict and scaler.load_state_dict.\r\n",
    "\r\n",
    "- When saving, save the scaler state dict alongside the usual model and optimizer state dicts. Do this either at the beginning of an iteration before any forward passes, or at the end of an iteration after scaler.update()."
   ]
  },
  {
   "cell_type": "markdown",
   "metadata": {
    "id": "pkM0G4A4ijHw"
   },
   "source": [
    "For More details [Torch doc on Mixed precision](https://pytorch.org/docs/stable/notes/amp_examples.html)"
   ]
  },
  {
   "cell_type": "markdown",
   "metadata": {
    "id": "xwdEvBarlM5Y"
   },
   "source": [
    "## Keras & TF 2.X"
   ]
  },
  {
   "cell_type": "code",
   "execution_count": null,
   "metadata": {
    "id": "UL0f3DrpYBcS"
   },
   "outputs": [],
   "source": [
    "import tensorflow as tf\r\n",
    "from tensorflow.keras.applications import MobileNetV2\r\n",
    "from tensorflow.keras.layers import Dense, Activation"
   ]
  },
  {
   "cell_type": "markdown",
   "metadata": {
    "id": "HUlpyYEMz3dG"
   },
   "source": [
    "- To use mixed precision in Keras, you need to set a tf.keras.mixed_precision Policy, typically referred to as a dtype policy. Dtype policies specify the dtypes layers will run in. In this guide, you will construct a policy from the string 'mixed_float16' and set it as the global policy. This will cause subsequently created layers to use mixed precision with a mix of float16 and float32."
   ]
  },
  {
   "cell_type": "code",
   "execution_count": null,
   "metadata": {
    "id": "p_BoVKbnz2yu"
   },
   "outputs": [],
   "source": [
    "# for mixed precision training\r\n",
    "from tensorflow.keras import mixed_precision\r\n",
    "# set global dtype for all keras.layers\r\n",
    "mixed_precision.set_global_policy('mixed_float16') # default is float32, if you use TPUs change it to mixed_bfloat16"
   ]
  },
  {
   "cell_type": "markdown",
   "metadata": {
    "id": "9KI7hY2j0Vkf"
   },
   "source": [
    "- Computations are done in float16 for performance\r\n",
    "- but variables must be kept in float32 for numeric stability."
   ]
  },
  {
   "cell_type": "code",
   "execution_count": null,
   "metadata": {
    "colab": {
     "base_uri": "https://localhost:8080/"
    },
    "id": "duzKjm6LquSp",
    "outputId": "2227d018-e1e9-46bd-ba80-4d1110c20f5f"
   },
   "outputs": [
    {
     "name": "stdout",
     "output_type": "stream",
     "text": [
      "Compute dtype:  float16\n",
      "Variable dtype:  float32\n"
     ]
    }
   ],
   "source": [
    "print('Compute dtype: ', mixed_precision.global_policy().compute_dtype)\r\n",
    "print('Variable dtype: ', mixed_precision.global_policy().variable_dtype)"
   ]
  },
  {
   "cell_type": "markdown",
   "metadata": {
    "id": "ByDt9ukKrXrk"
   },
   "source": [
    "- This example cast the input data from int8 to float32. We don't cast to float16 since the division by 255 is on the CPU, which runs float16 operations slower than float32 operations. In this case, the performance difference in negligible, but in general you should run input processing math in float32 if it runs on the CPU. The first layer of the model will cast the inputs to float16, as each layer casts floating-point inputs to its compute dtype."
   ]
  },
  {
   "cell_type": "code",
   "execution_count": null,
   "metadata": {
    "id": "fH7yTtHboNdS"
   },
   "outputs": [],
   "source": [
    "(x_train, y_train), (x_test, y_test) = keras.datasets.cifar10.load_data()\r\n",
    "x_train = x_train.astype('float32') / 255\r\n",
    "x_test = x_test.astype('float32') / 255"
   ]
  },
  {
   "cell_type": "markdown",
   "metadata": {
    "id": "FKofkr4_xshK"
   },
   "source": [
    "- Each layer has a policy and uses the global policy by default which is `float16` \r\n",
    "  - You can override the dtype of any layer to be float32 by passing `dtype='float32'`\r\n",
    "- Very small toy models typically do not benefit from mixed precision, because overhead from the TensorFlow runtime typically dominates the execution time, making any performance improvement on the GPU negligible"
   ]
  },
  {
   "cell_type": "code",
   "execution_count": null,
   "metadata": {
    "id": "YXzBqiu3l6SK"
   },
   "outputs": [],
   "source": [
    "model = tf.keras.Sequential()\r\n",
    "model.add(MobileNetV2(include_top=False, input_shape=(32, 32, 3))) \r\n",
    "model.add(Dense(10)) # use global policy which is float16 \r\n",
    "# If your model ends in softmax, make sure it is float32. And regardless of what your model ends in, make sure the output is float32.\r\n",
    "model.add(Activation('softmax', dtype='float32'))"
   ]
  },
  {
   "cell_type": "markdown",
   "metadata": {
    "id": "ajvAzECjyAko"
   },
   "source": [
    "- Even if the model does not end in a softmax, the outputs should still be float32\r\n",
    "  - for computing loss in float32 we need outputs on float32"
   ]
  },
  {
   "cell_type": "markdown",
   "metadata": {
    "id": "_JtDmjcv1apZ"
   },
   "source": [
    "- if you have not acsses to your last layer (like in applications), use this\r\n",
    "\r\n",
    "```python\r\n",
    "  outputs = keras.layers.Activation('linear', dtype='float32')(outputs)\r\n",
    "```\r\n"
   ]
  },
  {
   "cell_type": "code",
   "execution_count": null,
   "metadata": {
    "colab": {
     "base_uri": "https://localhost:8080/"
    },
    "id": "nw7FbqSimPwk",
    "outputId": "d0c79cac-052b-4ccf-ed9f-93ed5df5af6a"
   },
   "outputs": [
    {
     "name": "stdout",
     "output_type": "stream",
     "text": [
      "Epoch 1/2\n",
      "1250/1250 [==============================] - 72s 47ms/step - loss: 1.9050 - val_loss: 7.5213\n",
      "Epoch 2/2\n",
      "1250/1250 [==============================] - 55s 44ms/step - loss: 1.7229 - val_loss: 7.7043\n"
     ]
    }
   ],
   "source": [
    "model.compile(loss='sparse_categorical_crossentropy', optimizer='adam')\r\n",
    "history = model.fit(x_train, y_train, batch_size=32, epochs=2, validation_split=0.2)"
   ]
  },
  {
   "cell_type": "code",
   "execution_count": null,
   "metadata": {
    "id": "QG46LgDqmPsG"
   },
   "outputs": [],
   "source": [
    "def train(fp16=True, epochs=1):\r\n",
    "    # set floating point\r\n",
    "    if fp16           mixed_precision.set_global_policy('mixed_float16')\r\n",
    "    el             mixed_precision.set_global_policy('float32')\r\n",
    "\r\n",
    "    # create & compile model\r\n",
    "    model = tf.keras.Sequential()\r\n",
    "    model.add(MobileNetV2(include_top=False, input_shape=(32, 32, 3)))\r\n",
    "    model.add(Dense(10))\r\n",
    "    model.add(Activation('softmax', dtype='float32')) # last layer must be float32\r\n",
    "    model.compile(loss='sparse_categorical_crossentropy', optimizer='adam')\r\n",
    "    # training \r\n",
    "    model.fit(x_train, y_train, epochs=epochs, batch_size=64)"
   ]
  },
  {
   "cell_type": "code",
   "execution_count": null,
   "metadata": {
    "colab": {
     "base_uri": "https://localhost:8080/"
    },
    "id": "5T191x-omPoy",
    "outputId": "143520bd-6f11-4534-980b-2b7939097ceb"
   },
   "outputs": [
    {
     "name": "stdout",
     "output_type": "stream",
     "text": [
      "782/782 [==============================] - 57s 55ms/step - loss: 1.6211\n"
     ]
    }
   ],
   "source": [
    "train(fp16=True)"
   ]
  },
  {
   "cell_type": "code",
   "execution_count": null,
   "metadata": {
    "colab": {
     "base_uri": "https://localhost:8080/"
    },
    "id": "wQSnHltFp1Ot",
    "outputId": "aa70d26c-f2cc-4df6-8cdf-831af6ac6bb5"
   },
   "outputs": [
    {
     "name": "stdout",
     "output_type": "stream",
     "text": [
      "782/782 [==============================] - 34s 37ms/step - loss: 1.6675\n"
     ]
    }
   ],
   "source": [
    "train(fp16=False)"
   ]
  },
  {
   "cell_type": "markdown",
   "metadata": {
    "id": "Xlke5Uugrt6U"
   },
   "source": [
    " ### Custom Training Loop"
   ]
  },
  {
   "cell_type": "markdown",
   "metadata": {
    "id": "YNDuF5xo3m_C"
   },
   "source": [
    "- TensorFlow dynamically determines the gradient scale so you do not have to choose one manually. If you use `keras.Model.fit`, gradient scaling is done for you so you do not have to do any extra work. If you use a custom training loop, you must explicitly use the special optimizer wrapper `keras.mixed_precision.LossScaleOptimizer` in order to use loss (and grad) scaling"
   ]
  },
  {
   "cell_type": "markdown",
   "metadata": {
    "id": "C3ZA6qbovomo"
   },
   "source": [
    "- If you use a custom training loop with `mixed_float16`\r\n",
    "  - you need to wrap your optimizer with a `tf.keras.mixed_precision.LossScaleOptimizer`\r\n",
    "  - Then call `optimizer.get_scaled_loss` to scale the loss, \r\n",
    "  - and `optimizer.get_unscaled_gradients` to unscale the gradients.\r\n",
    "\r\n",
    "- see the following example"
   ]
  },
  {
   "cell_type": "code",
   "execution_count": null,
   "metadata": {
    "id": "mO65dzIpqsY0"
   },
   "outputs": [],
   "source": [
    "class Fp16Training(tf.keras.Model):\r\n",
    "    def train_step(self, data):\r\n",
    "        x, y = data\r\n",
    "        with tf.GradientTape() as tape:\r\n",
    "            y_pred = self(x, training=True)\r\n",
    "            loss = self.compiled_loss(y, y_pred, regularization_losses=self.losses)\r\n",
    "            # scale loss with optimizer\r\n",
    "            scaled_loss = optimizer.get_scaled_loss(loss)\r\n",
    "\r\n",
    "        # used scaled loss for compute gradient\r\n",
    "        scaled_gradients = tape.gradient(scaled_loss, self.trainable_variables)\r\n",
    "        # unscaled gradients to default value for stable training\r\n",
    "        grads = optimizer.get_unscaled_gradients(scaled_gradients)\r\n",
    "        self.optimizer.apply_gradients(zip(grads, self.trainable_variables))\r\n",
    "        # as usual\r\n",
    "        self.compiled_metrics.update_state(y, y_pred)\r\n",
    "        return {m.name: m.result() for m in self.metrics}\r\n",
    "\r\n",
    "    # write it as usally\r\n",
    "    def test_step(self, data):  pass"
   ]
  },
  {
   "cell_type": "code",
   "execution_count": null,
   "metadata": {
    "id": "KJuORZMQqsWB"
   },
   "outputs": [],
   "source": [
    "model = tf.keras.Sequential()\r\n",
    "model.add(MobileNetV2(include_top=False, input_shape=(32, 32, 3)))\r\n",
    "model.add(Dense(10))\r\n",
    "# last layer or outputs must be float32 if use from_logits=True set dtype in last Dense\r\n",
    "model.add(Activation('softmax', dtype='float32'))\r\n",
    "# use custom trainig loop\r\n",
    "cuistom_model = Fp16Training(model.inputs, model.outputs)"
   ]
  },
  {
   "cell_type": "code",
   "execution_count": null,
   "metadata": {
    "id": "cwpxPvD5qsTB"
   },
   "outputs": [],
   "source": [
    "# optimizer with loss-scaler & and gradient unscaler\r\n",
    "optimizer = keras.optimizers.Adam()\r\n",
    "optimizer = mixed_precision.LossScaleOptimizer(optimizer)\r\n",
    "# compile model\r\n",
    "cuistom_model.compile(loss='sparse_categorical_crossentropy', optimizer=optimizer)"
   ]
  },
  {
   "cell_type": "code",
   "execution_count": null,
   "metadata": {
    "colab": {
     "base_uri": "https://localhost:8080/"
    },
    "id": "isf4Z991uDi-",
    "outputId": "eee23d7b-289b-432c-cc03-775644d84aa0"
   },
   "outputs": [
    {
     "name": "stdout",
     "output_type": "stream",
     "text": [
      "1563/1563 [==============================] - 74s 42ms/step - loss: 1.9542\n"
     ]
    },
    {
     "data": {
      "text/plain": [
       "<tensorflow.python.keras.callbacks.History at 0x7f2de9545090>"
      ]
     },
     "execution_count": 116,
     "metadata": {
      "tags": []
     },
     "output_type": "execute_result"
    }
   ],
   "source": [
    "cuistom_model.fit(x_train, y_train, batch_size=32, epochs=1)"
   ]
  },
  {
   "cell_type": "markdown",
   "metadata": {
    "id": "Y1FMnzTOiL2t"
   },
   "source": [
    "For More details [TF doc on Mixed precision](https://www.tensorflow.org/guide/mixed_precision)"
   ]
  },
  {
   "cell_type": "markdown",
   "metadata": {
    "id": "XR7yCLqPPeC2"
   },
   "source": [
    "## Performance"
   ]
  },
  {
   "cell_type": "markdown",
   "metadata": {
    "id": "ZSlItq36wuXS"
   },
   "source": [
    "modern NVIDIA GPUs use a special hardware unit called Tensor Cores that can multiply float16 matrices very quickly. \n",
    "However, Tensor Cores requires certain dimensions of tensors to be a multiple of `8`\n",
    "Matmul dimensions are not Tensor Core-friendly. Make sure matmuls’ participating sizes are multiples of `8`. (For NLP models with encoders/decoders, this can be subtle. Also, convolutions used to have similar size constraints for Tensor Core use, but for CuDNN versions 7.3 and later, no such constraints exist \r\n"
   ]
  },
  {
   "cell_type": "markdown",
   "metadata": {
    "id": "k9cwUoWYPqqS"
   },
   "source": [
    "- I think that now we need to define models like this:\r\n",
    "\n",
    "\r\n",
    "```python  \r\n",
    "batch_size = 8*4\r\n",
    "layer_input = 8*20\r\n",
    "layer_output = 8*40\r\n",
    "channel_number = 8*64\r\n",
    "```"
   ]
  }
 ],
 "metadata": {
  "accelerator": "GPU",
  "colab": {
   "collapsed_sections": [],
   "name": "mixed-precision.ipynb",
   "provenance": [],
   "toc_visible": true
  },
  "kernelspec": {
   "display_name": "Python 3",
   "language": "python",
   "name": "python3"
  },
  "language_info": {
   "codemirror_mode": {
    "name": "ipython",
    "version": 3
   },
   "file_extension": ".py",
   "mimetype": "text/x-python",
   "name": "python",
   "nbconvert_exporter": "python",
   "pygments_lexer": "ipython3",
   "version": "3.8.5"
  }
 },
 "nbformat": 4,
 "nbformat_minor": 4
}
